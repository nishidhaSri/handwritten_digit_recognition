{
 "cells": [
  {
   "cell_type": "code",
   "execution_count": 1,
   "metadata": {},
   "outputs": [],
   "source": [
    "import keras\n",
    "from keras.datasets import mnist\n",
    "from keras.models import Sequential\n",
    "from keras.layers import Dense, Dropout, Flatten\n",
    "from keras.layers import Conv2D, MaxPooling2D\n",
    "from keras import backend as K"
   ]
  },
  {
   "cell_type": "code",
   "execution_count": 2,
   "metadata": {},
   "outputs": [],
   "source": [
    "(x_train, y_train), (x_test, y_test) = mnist.load_data()"
   ]
  },
  {
   "cell_type": "code",
   "execution_count": 3,
   "metadata": {},
   "outputs": [
    {
     "name": "stdout",
     "output_type": "stream",
     "text": [
      "(60000, 28, 28) (60000,)\n"
     ]
    }
   ],
   "source": [
    "print(x_train.shape, y_train.shape)"
   ]
  },
  {
   "cell_type": "code",
   "execution_count": 4,
   "metadata": {},
   "outputs": [],
   "source": [
    "x_train = x_train.reshape(x_train.shape[0], 28, 28, 1)\n",
    "x_test = x_test.reshape(x_test.shape[0], 28, 28, 1)\n",
    "input_shape = (28, 28, 1)"
   ]
  },
  {
   "cell_type": "code",
   "execution_count": 5,
   "metadata": {},
   "outputs": [],
   "source": [
    "# convert class vectors to binary class matrices\n",
    "y_train = keras.utils.to_categorical(y_train, 10)\n",
    "y_test = keras.utils.to_categorical(y_test, 10)"
   ]
  },
  {
   "cell_type": "code",
   "execution_count": 6,
   "metadata": {},
   "outputs": [
    {
     "name": "stdout",
     "output_type": "stream",
     "text": [
      "x_train shape: (60000, 28, 28, 1)\n",
      "60000 train samples\n",
      "10000 test samples\n"
     ]
    }
   ],
   "source": [
    "x_train = x_train.astype('float32')\n",
    "x_test = x_test.astype('float32')\n",
    "x_train /= 255\n",
    "x_test /= 255\n",
    "print('x_train shape:', x_train.shape)\n",
    "print(x_train.shape[0], 'train samples')\n",
    "print(x_test.shape[0], 'test samples')"
   ]
  },
  {
   "cell_type": "code",
   "execution_count": 7,
   "metadata": {},
   "outputs": [],
   "source": [
    "batch_size = 128\n",
    "num_classes = 10\n",
    "epochs = 100"
   ]
  },
  {
   "cell_type": "code",
   "execution_count": 8,
   "metadata": {},
   "outputs": [],
   "source": [
    "model = Sequential()\n",
    "model.add(Conv2D(32, kernel_size=(5, 5),activation='relu',input_shape=input_shape))\n",
    "model.add(MaxPooling2D(pool_size=(2, 2)))\n",
    "model.add(Conv2D(64, (3, 3), activation='relu'))\n",
    "model.add(MaxPooling2D(pool_size=(2, 2)))\n",
    "model.add(Flatten())\n",
    "model.add(Dense(128, activation='relu'))\n",
    "model.add(Dropout(0.3))\n",
    "model.add(Dense(64, activation='relu'))\n",
    "model.add(Dropout(0.5))\n",
    "model.add(Dense(num_classes, activation='softmax'))"
   ]
  },
  {
   "cell_type": "code",
   "execution_count": 9,
   "metadata": {},
   "outputs": [],
   "source": [
    "model.compile(loss=keras.losses.categorical_crossentropy,optimizer=keras.optimizers.Adadelta(),metrics=['accuracy'])"
   ]
  },
  {
   "cell_type": "code",
   "execution_count": 10,
   "metadata": {},
   "outputs": [
    {
     "name": "stdout",
     "output_type": "stream",
     "text": [
      "Epoch 1/100\n",
      "469/469 [==============================] - 60s 128ms/step - loss: 2.3063 - accuracy: 0.1018 - val_loss: 2.2906 - val_accuracy: 0.1371\n",
      "Epoch 2/100\n",
      "469/469 [==============================] - 53s 114ms/step - loss: 2.2906 - accuracy: 0.1232 - val_loss: 2.2759 - val_accuracy: 0.1727\n",
      "Epoch 3/100\n",
      "469/469 [==============================] - 61s 129ms/step - loss: 2.2775 - accuracy: 0.1464 - val_loss: 2.2611 - val_accuracy: 0.2365\n",
      "Epoch 4/100\n",
      "469/469 [==============================] - 69s 148ms/step - loss: 2.2634 - accuracy: 0.1718 - val_loss: 2.2450 - val_accuracy: 0.2993y: 0.\n",
      "Epoch 5/100\n",
      "469/469 [==============================] - 59s 125ms/step - loss: 2.2507 - accuracy: 0.1894 - val_loss: 2.2277 - val_accuracy: 0.3385\n",
      "Epoch 6/100\n",
      "469/469 [==============================] - 60s 128ms/step - loss: 2.2350 - accuracy: 0.2115 - val_loss: 2.2083 - val_accuracy: 0.3687\n",
      "Epoch 7/100\n",
      "469/469 [==============================] - 60s 129ms/step - loss: 2.2183 - accuracy: 0.2271 - val_loss: 2.1867 - val_accuracy: 0.3926\n",
      "Epoch 8/100\n",
      "469/469 [==============================] - 57s 122ms/step - loss: 2.1996 - accuracy: 0.2424 - val_loss: 2.1621 - val_accuracy: 0.4179\n",
      "Epoch 9/100\n",
      "469/469 [==============================] - 60s 129ms/step - loss: 2.1788 - accuracy: 0.2610 - val_loss: 2.1353 - val_accuracy: 0.4437\n",
      "Epoch 10/100\n",
      "469/469 [==============================] - 53s 114ms/step - loss: 2.1562 - accuracy: 0.2756 - val_loss: 2.1060 - val_accuracy: 0.4676\n",
      "Epoch 11/100\n",
      "469/469 [==============================] - 59s 125ms/step - loss: 2.1328 - accuracy: 0.2883 - val_loss: 2.0745 - val_accuracy: 0.4871\n",
      "Epoch 12/100\n",
      "469/469 [==============================] - 56s 119ms/step - loss: 2.1071 - accuracy: 0.3004 - val_loss: 2.0406 - val_accuracy: 0.5021\n",
      "Epoch 13/100\n",
      "469/469 [==============================] - 56s 119ms/step - loss: 2.0795 - accuracy: 0.3137 - val_loss: 2.0047 - val_accuracy: 0.5147\n",
      "Epoch 14/100\n",
      "469/469 [==============================] - 73s 155ms/step - loss: 2.0516 - accuracy: 0.3239 - val_loss: 1.9665 - val_accuracy: 0.5295\n",
      "Epoch 15/100\n",
      "469/469 [==============================] - 67s 142ms/step - loss: 2.0209 - accuracy: 0.3386 - val_loss: 1.9261 - val_accuracy: 0.5430\n",
      "Epoch 16/100\n",
      "469/469 [==============================] - 58s 125ms/step - loss: 1.9895 - accuracy: 0.3486 - val_loss: 1.8834 - val_accuracy: 0.5577\n",
      "Epoch 17/100\n",
      "469/469 [==============================] - 67s 143ms/step - loss: 1.9546 - accuracy: 0.3621 - val_loss: 1.8384 - val_accuracy: 0.5719\n",
      "Epoch 18/100\n",
      "469/469 [==============================] - 58s 124ms/step - loss: 1.9225 - accuracy: 0.3724 - val_loss: 1.7925 - val_accuracy: 0.5909\n",
      "Epoch 19/100\n",
      "469/469 [==============================] - 59s 125ms/step - loss: 1.8876 - accuracy: 0.3862 - val_loss: 1.7449 - val_accuracy: 0.6061\n",
      "Epoch 20/100\n",
      "469/469 [==============================] - 56s 119ms/step - loss: 1.8538 - accuracy: 0.3963 - val_loss: 1.6967 - val_accuracy: 0.6253\n",
      "Epoch 21/100\n",
      "469/469 [==============================] - 56s 118ms/step - loss: 1.8164 - accuracy: 0.4063 - val_loss: 1.6481 - val_accuracy: 0.6431\n",
      "Epoch 22/100\n",
      "469/469 [==============================] - 61s 130ms/step - loss: 1.7799 - accuracy: 0.4205 - val_loss: 1.5981 - val_accuracy: 0.6642\n",
      "Epoch 23/100\n",
      "469/469 [==============================] - 58s 123ms/step - loss: 1.7466 - accuracy: 0.4280 - val_loss: 1.5490 - val_accuracy: 0.6837\n",
      "Epoch 24/100\n",
      "469/469 [==============================] - 66s 141ms/step - loss: 1.7101 - accuracy: 0.4423 - val_loss: 1.5011 - val_accuracy: 0.7047\n",
      "Epoch 25/100\n",
      "469/469 [==============================] - 64s 136ms/step - loss: 1.6774 - accuracy: 0.4507 - val_loss: 1.4537 - val_accuracy: 0.7238\n",
      "Epoch 26/100\n",
      "469/469 [==============================] - 43s 92ms/step - loss: 1.6445 - accuracy: 0.4615 - val_loss: 1.4076 - val_accuracy: 0.7407\n",
      "Epoch 27/100\n",
      "469/469 [==============================] - 30s 64ms/step - loss: 1.6053 - accuracy: 0.4757 - val_loss: 1.3605 - val_accuracy: 0.7550\n",
      "Epoch 28/100\n",
      "469/469 [==============================] - 31s 66ms/step - loss: 1.5742 - accuracy: 0.4863 - val_loss: 1.3148 - val_accuracy: 0.7675\n",
      "Epoch 29/100\n",
      "469/469 [==============================] - 34s 73ms/step - loss: 1.5439 - accuracy: 0.4934 - val_loss: 1.2724 - val_accuracy: 0.7763\n",
      "Epoch 30/100\n",
      "469/469 [==============================] - 26s 55ms/step - loss: 1.5146 - accuracy: 0.5037 - val_loss: 1.2314 - val_accuracy: 0.7871\n",
      "Epoch 31/100\n",
      "469/469 [==============================] - 24s 52ms/step - loss: 1.4854 - accuracy: 0.5142 - val_loss: 1.1914 - val_accuracy: 0.7929\n",
      "Epoch 32/100\n",
      "469/469 [==============================] - 25s 52ms/step - loss: 1.4510 - accuracy: 0.5263 - val_loss: 1.1511 - val_accuracy: 0.8007\n",
      "Epoch 33/100\n",
      "469/469 [==============================] - 26s 55ms/step - loss: 1.4247 - accuracy: 0.5321 - val_loss: 1.1148 - val_accuracy: 0.8082\n",
      "Epoch 34/100\n",
      "469/469 [==============================] - 24s 52ms/step - loss: 1.3996 - accuracy: 0.5410 - val_loss: 1.0793 - val_accuracy: 0.8148\n",
      "Epoch 35/100\n",
      "469/469 [==============================] - 24s 52ms/step - loss: 1.3728 - accuracy: 0.5511 - val_loss: 1.0456 - val_accuracy: 0.8200\n",
      "Epoch 36/100\n",
      "469/469 [==============================] - 25s 54ms/step - loss: 1.3454 - accuracy: 0.5637 - val_loss: 1.0127 - val_accuracy: 0.8251\n",
      "Epoch 37/100\n",
      "469/469 [==============================] - 24s 51ms/step - loss: 1.3280 - accuracy: 0.5653 - val_loss: 0.9815 - val_accuracy: 0.8301\n",
      "Epoch 38/100\n",
      "469/469 [==============================] - 24s 51ms/step - loss: 1.2903 - accuracy: 0.5791 - val_loss: 0.9500 - val_accuracy: 0.8344\n",
      "Epoch 39/100\n",
      "469/469 [==============================] - 24s 51ms/step - loss: 1.2761 - accuracy: 0.5825 - val_loss: 0.9229 - val_accuracy: 0.8391\n",
      "Epoch 40/100\n",
      "469/469 [==============================] - 24s 51ms/step - loss: 1.2451 - accuracy: 0.5955 - val_loss: 0.8950 - val_accuracy: 0.8435\n",
      "Epoch 41/100\n",
      "469/469 [==============================] - 24s 51ms/step - loss: 1.2311 - accuracy: 0.5977 - val_loss: 0.8704 - val_accuracy: 0.8454\n",
      "Epoch 42/100\n",
      "469/469 [==============================] - 24s 51ms/step - loss: 1.2096 - accuracy: 0.6062 - val_loss: 0.8460 - val_accuracy: 0.8492\n",
      "Epoch 43/100\n",
      "469/469 [==============================] - 27s 58ms/step - loss: 1.1895 - accuracy: 0.6122 - val_loss: 0.8230 - val_accuracy: 0.8522\n",
      "Epoch 44/100\n",
      "469/469 [==============================] - 24s 52ms/step - loss: 1.1683 - accuracy: 0.6190 - val_loss: 0.8015 - val_accuracy: 0.8546\n",
      "Epoch 45/100\n",
      "469/469 [==============================] - 26s 55ms/step - loss: 1.1538 - accuracy: 0.6242 - val_loss: 0.7806 - val_accuracy: 0.8572\n",
      "Epoch 46/100\n",
      "469/469 [==============================] - 26s 55ms/step - loss: 1.1349 - accuracy: 0.6292 - val_loss: 0.7596 - val_accuracy: 0.8618\n",
      "Epoch 47/100\n",
      "469/469 [==============================] - 25s 53ms/step - loss: 1.1143 - accuracy: 0.6395 - val_loss: 0.7397 - val_accuracy: 0.8637\n",
      "Epoch 48/100\n",
      "469/469 [==============================] - 25s 52ms/step - loss: 1.1005 - accuracy: 0.6418 - val_loss: 0.7214 - val_accuracy: 0.8667\n",
      "Epoch 49/100\n",
      "469/469 [==============================] - 25s 54ms/step - loss: 1.0847 - accuracy: 0.6480 - val_loss: 0.7035 - val_accuracy: 0.8691\n",
      "Epoch 50/100\n",
      "469/469 [==============================] - 27s 58ms/step - loss: 1.0669 - accuracy: 0.6512 - val_loss: 0.6862 - val_accuracy: 0.8715\n",
      "Epoch 51/100\n",
      "469/469 [==============================] - 29s 61ms/step - loss: 1.0553 - accuracy: 0.6557 - val_loss: 0.6700 - val_accuracy: 0.8744\n",
      "Epoch 52/100\n",
      "469/469 [==============================] - 28s 61ms/step - loss: 1.0368 - accuracy: 0.6634 - val_loss: 0.6543 - val_accuracy: 0.8771\n",
      "Epoch 53/100\n",
      "469/469 [==============================] - 29s 62ms/step - loss: 1.0264 - accuracy: 0.6683 - val_loss: 0.6405 - val_accuracy: 0.8786\n",
      "Epoch 54/100\n",
      "469/469 [==============================] - 28s 59ms/step - loss: 1.0060 - accuracy: 0.6743 - val_loss: 0.6255 - val_accuracy: 0.8804\n",
      "Epoch 55/100\n",
      "469/469 [==============================] - 27s 58ms/step - loss: 0.9938 - accuracy: 0.6783 - val_loss: 0.6118 - val_accuracy: 0.8828\n",
      "Epoch 56/100\n",
      "469/469 [==============================] - 25s 52ms/step - loss: 0.9847 - accuracy: 0.6827 - val_loss: 0.5991 - val_accuracy: 0.8838\n",
      "Epoch 57/100\n",
      "469/469 [==============================] - 25s 53ms/step - loss: 0.9662 - accuracy: 0.6895 - val_loss: 0.5854 - val_accuracy: 0.8853\n",
      "Epoch 58/100\n",
      "469/469 [==============================] - 26s 55ms/step - loss: 0.9538 - accuracy: 0.6904 - val_loss: 0.5730 - val_accuracy: 0.8873\n",
      "Epoch 59/100\n",
      "469/469 [==============================] - 26s 55ms/step - loss: 0.9437 - accuracy: 0.6941 - val_loss: 0.5626 - val_accuracy: 0.8886\n",
      "Epoch 60/100\n",
      "469/469 [==============================] - 23s 49ms/step - loss: 0.9289 - accuracy: 0.7015 - val_loss: 0.5509 - val_accuracy: 0.8900\n",
      "Epoch 61/100\n",
      "469/469 [==============================] - 23s 49ms/step - loss: 0.9200 - accuracy: 0.7019 - val_loss: 0.5401 - val_accuracy: 0.8920\n",
      "Epoch 62/100\n",
      "469/469 [==============================] - 23s 49ms/step - loss: 0.9115 - accuracy: 0.7067 - val_loss: 0.5302 - val_accuracy: 0.8938\n",
      "Epoch 63/100\n",
      "469/469 [==============================] - 23s 50ms/step - loss: 0.8989 - accuracy: 0.7108 - val_loss: 0.5192 - val_accuracy: 0.8946\n",
      "Epoch 64/100\n",
      "469/469 [==============================] - 25s 53ms/step - loss: 0.8843 - accuracy: 0.7159 - val_loss: 0.5097 - val_accuracy: 0.8961\n",
      "Epoch 65/100\n",
      "469/469 [==============================] - 25s 53ms/step - loss: 0.8761 - accuracy: 0.7201 - val_loss: 0.5001 - val_accuracy: 0.8972\n",
      "Epoch 66/100\n",
      "469/469 [==============================] - 26s 55ms/step - loss: 0.8666 - accuracy: 0.7216 - val_loss: 0.4918 - val_accuracy: 0.8991\n",
      "Epoch 67/100\n",
      "469/469 [==============================] - 26s 56ms/step - loss: 0.8550 - accuracy: 0.7280 - val_loss: 0.4830 - val_accuracy: 0.9003\n",
      "Epoch 68/100\n",
      "469/469 [==============================] - 27s 58ms/step - loss: 0.8481 - accuracy: 0.7295 - val_loss: 0.4750 - val_accuracy: 0.9010\n",
      "Epoch 69/100\n",
      "469/469 [==============================] - 26s 56ms/step - loss: 0.8379 - accuracy: 0.7321 - val_loss: 0.4668 - val_accuracy: 0.9026\n",
      "Epoch 70/100\n",
      "469/469 [==============================] - 25s 54ms/step - loss: 0.8330 - accuracy: 0.7337 - val_loss: 0.4592 - val_accuracy: 0.9036\n",
      "Epoch 71/100\n",
      "469/469 [==============================] - 24s 51ms/step - loss: 0.8148 - accuracy: 0.7413 - val_loss: 0.4504 - val_accuracy: 0.9043\n",
      "Epoch 72/100\n",
      "469/469 [==============================] - 25s 53ms/step - loss: 0.8083 - accuracy: 0.7441 - val_loss: 0.4429 - val_accuracy: 0.9064\n",
      "Epoch 73/100\n",
      "469/469 [==============================] - 24s 50ms/step - loss: 0.8001 - accuracy: 0.7442 - val_loss: 0.4363 - val_accuracy: 0.9071\n",
      "Epoch 74/100\n",
      "469/469 [==============================] - 24s 51ms/step - loss: 0.7902 - accuracy: 0.7481 - val_loss: 0.4291 - val_accuracy: 0.9081\n",
      "Epoch 75/100\n",
      "469/469 [==============================] - 23s 50ms/step - loss: 0.7810 - accuracy: 0.7512 - val_loss: 0.4222 - val_accuracy: 0.9095\n",
      "Epoch 76/100\n",
      "469/469 [==============================] - 23s 50ms/step - loss: 0.7778 - accuracy: 0.7532 - val_loss: 0.4162 - val_accuracy: 0.9103\n",
      "Epoch 77/100\n",
      "469/469 [==============================] - 23s 49ms/step - loss: 0.7702 - accuracy: 0.7548 - val_loss: 0.4095 - val_accuracy: 0.9110\n",
      "Epoch 78/100\n",
      "469/469 [==============================] - 24s 51ms/step - loss: 0.7636 - accuracy: 0.7579 - val_loss: 0.4045 - val_accuracy: 0.9111\n",
      "Epoch 79/100\n",
      "469/469 [==============================] - 27s 58ms/step - loss: 0.7588 - accuracy: 0.7590 - val_loss: 0.3983 - val_accuracy: 0.9118\n",
      "Epoch 80/100\n",
      "469/469 [==============================] - 26s 56ms/step - loss: 0.7460 - accuracy: 0.7640 - val_loss: 0.3927 - val_accuracy: 0.9124\n",
      "Epoch 81/100\n",
      "469/469 [==============================] - 27s 58ms/step - loss: 0.7392 - accuracy: 0.7668 - val_loss: 0.3859 - val_accuracy: 0.9135\n",
      "Epoch 82/100\n",
      "469/469 [==============================] - 29s 61ms/step - loss: 0.7317 - accuracy: 0.7681 - val_loss: 0.3810 - val_accuracy: 0.9139\n",
      "Epoch 83/100\n",
      "469/469 [==============================] - 28s 59ms/step - loss: 0.7297 - accuracy: 0.7704 - val_loss: 0.3760 - val_accuracy: 0.9153\n",
      "Epoch 84/100\n",
      "469/469 [==============================] - 27s 58ms/step - loss: 0.7176 - accuracy: 0.7719 - val_loss: 0.3711 - val_accuracy: 0.9159\n",
      "Epoch 85/100\n",
      "469/469 [==============================] - 27s 58ms/step - loss: 0.7092 - accuracy: 0.7770 - val_loss: 0.3654 - val_accuracy: 0.9172\n",
      "Epoch 86/100\n",
      "469/469 [==============================] - 26s 56ms/step - loss: 0.7050 - accuracy: 0.7772 - val_loss: 0.3605 - val_accuracy: 0.9180\n",
      "Epoch 87/100\n",
      "469/469 [==============================] - 26s 56ms/step - loss: 0.6999 - accuracy: 0.7782 - val_loss: 0.3562 - val_accuracy: 0.9191\n",
      "Epoch 88/100\n",
      "469/469 [==============================] - 26s 56ms/step - loss: 0.6930 - accuracy: 0.7818 - val_loss: 0.3521 - val_accuracy: 0.9196\n",
      "Epoch 89/100\n",
      "469/469 [==============================] - 26s 56ms/step - loss: 0.6891 - accuracy: 0.7850 - val_loss: 0.3467 - val_accuracy: 0.9206\n",
      "Epoch 90/100\n",
      "469/469 [==============================] - 26s 56ms/step - loss: 0.6793 - accuracy: 0.7867 - val_loss: 0.3416 - val_accuracy: 0.9218\n",
      "Epoch 91/100\n",
      "469/469 [==============================] - 26s 56ms/step - loss: 0.6699 - accuracy: 0.7906 - val_loss: 0.3375 - val_accuracy: 0.9224\n",
      "Epoch 92/100\n",
      "469/469 [==============================] - 26s 55ms/step - loss: 0.6708 - accuracy: 0.7912 - val_loss: 0.3338 - val_accuracy: 0.9233\n",
      "Epoch 93/100\n",
      "469/469 [==============================] - 26s 56ms/step - loss: 0.6608 - accuracy: 0.7937 - val_loss: 0.3298 - val_accuracy: 0.9234\n",
      "Epoch 94/100\n",
      "469/469 [==============================] - 25s 54ms/step - loss: 0.6586 - accuracy: 0.7926 - val_loss: 0.3256 - val_accuracy: 0.9242\n",
      "Epoch 95/100\n",
      "469/469 [==============================] - 25s 53ms/step - loss: 0.6528 - accuracy: 0.7963 - val_loss: 0.3222 - val_accuracy: 0.9249\n",
      "Epoch 96/100\n",
      "469/469 [==============================] - 27s 57ms/step - loss: 0.6455 - accuracy: 0.7976 - val_loss: 0.3185 - val_accuracy: 0.9246\n",
      "Epoch 97/100\n",
      "469/469 [==============================] - 28s 59ms/step - loss: 0.6375 - accuracy: 0.8009 - val_loss: 0.3155 - val_accuracy: 0.9249\n",
      "Epoch 98/100\n",
      "469/469 [==============================] - 28s 59ms/step - loss: 0.6326 - accuracy: 0.8031 - val_loss: 0.3120 - val_accuracy: 0.9254\n",
      "Epoch 99/100\n",
      "469/469 [==============================] - 26s 55ms/step - loss: 0.6323 - accuracy: 0.8029 - val_loss: 0.3077 - val_accuracy: 0.9263\n",
      "Epoch 100/100\n",
      "469/469 [==============================] - 27s 57ms/step - loss: 0.6262 - accuracy: 0.8047 - val_loss: 0.3050 - val_accuracy: 0.9264\n",
      "The model has successfully trained\n"
     ]
    }
   ],
   "source": [
    "hist = model.fit(x_train, y_train,batch_size=batch_size,epochs=epochs,verbose=1,validation_data=(x_test, y_test))\n",
    "print(\"The model has successfully trained\")"
   ]
  },
  {
   "cell_type": "code",
   "execution_count": 11,
   "metadata": {},
   "outputs": [
    {
     "name": "stdout",
     "output_type": "stream",
     "text": [
      "Test loss: 0.3049624562263489\n",
      "Test accuracy: 0.9264000058174133\n"
     ]
    }
   ],
   "source": [
    "score = model.evaluate(x_test, y_test, verbose=0)\n",
    "print('Test loss:', score[0])\n",
    "print('Test accuracy:', score[1])"
   ]
  },
  {
   "cell_type": "code",
   "execution_count": 12,
   "metadata": {},
   "outputs": [
    {
     "name": "stdout",
     "output_type": "stream",
     "text": [
      "Saving the model as mnist.h5\n"
     ]
    }
   ],
   "source": [
    "model.save('mnist.h5')\n",
    "print(\"Saving the model as mnist.h5\")"
   ]
  },
  {
   "cell_type": "code",
   "execution_count": null,
   "metadata": {},
   "outputs": [],
   "source": []
  }
 ],
 "metadata": {
  "kernelspec": {
   "display_name": "Python 3",
   "language": "python",
   "name": "python3"
  },
  "language_info": {
   "codemirror_mode": {
    "name": "ipython",
    "version": 3
   },
   "file_extension": ".py",
   "mimetype": "text/x-python",
   "name": "python",
   "nbconvert_exporter": "python",
   "pygments_lexer": "ipython3",
   "version": "3.7.6"
  }
 },
 "nbformat": 4,
 "nbformat_minor": 4
}
